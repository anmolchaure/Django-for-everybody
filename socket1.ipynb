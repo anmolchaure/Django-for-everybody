{
 "cells": [
  {
   "cell_type": "code",
   "execution_count": 1,
   "metadata": {},
   "outputs": [],
   "source": [
    "import socket #importing the socket library(built in)\n",
    "# socket kind of behaves like files so to read the a file it would have to be opened "
   ]
  },
  {
   "cell_type": "code",
   "execution_count": 3,
   "metadata": {},
   "outputs": [
    {
     "data": {
      "text/plain": [
       "47"
      ]
     },
     "execution_count": 3,
     "metadata": {},
     "output_type": "execute_result"
    }
   ],
   "source": [
    "mysock = socket.socket(socket.AF_INET,socket.SOCK_STREAM)#socket.socket says make a phone call\n",
    "mysock.connect(('data.pr4e.org',80))# dial a phone to the given server, if this server doesn't exist: error\n",
    "#include the PORT 80\n",
    "cmd = 'GET http://data.pr4e.org/page1.htm HTTP/1.0\\r\\n\\r\\n'.encode() #the typical get command \n",
    "#encode() means that encode the data into UTF8 to send them across the internet\n",
    "#cmd has a string of UTF 8 \n",
    "mysock.send(cmd)# http requires the client to speak first and therefore the send () function does the same "
   ]
  },
  {
   "cell_type": "code",
   "execution_count": 4,
   "metadata": {},
   "outputs": [
    {
     "name": "stdout",
     "output_type": "stream",
     "text": [
      "HTTP/1.1 200 OK\n",
      "Date: Thu, 10 Nov 2022 16:42:59 GMT\n",
      "Server: Apache/2.4.18 (Ubuntu)\n",
      "Last-Modified: Mon, 15 May 2017 11:11:47 GMT\n",
      "ETag: \"80-54f8e1f004857\"\n",
      "Accept-Ranges: bytes\n",
      "Content-Length: 128\n",
      "Cache-Control: max-age=0, no-cache, no-store, must-revalidate\n",
      "Pragma: no-cache\n",
      "Expires: Wed, 11 Jan 1984 05:00:00 GMT\n",
      "Connection: close\n",
      "Content-Type: text/html\n",
      "\n",
      "<h1>The First Page</h1>\n",
      "<p>\n",
      "If you like, you can switch to the \n",
      "<a href=\"http://data.pr4e.org/page2.htm\">\n",
      "Second Page</a>.\n",
      "</p>\n"
     ]
    }
   ],
   "source": [
    "# retriving data \n",
    "#protocol says that we are requried to recieve data till the connection is closed\n",
    "while True:\n",
    "    data = mysock.recv(512) # recv() is a blocking,waiting operation \n",
    "    if len(data) < 1:\n",
    "        break\n",
    "    print(data.decode(),end='')# decoding is required because the data comes in UTF 8\n",
    "\n",
    "\n",
    "mysock.close()  #closing the socket "
   ]
  },
  {
   "cell_type": "code",
   "execution_count": null,
   "metadata": {},
   "outputs": [],
   "source": []
  }
 ],
 "metadata": {
  "kernelspec": {
   "display_name": "Python 3.8.10 64-bit",
   "language": "python",
   "name": "python3"
  },
  "language_info": {
   "codemirror_mode": {
    "name": "ipython",
    "version": 3
   },
   "file_extension": ".py",
   "mimetype": "text/x-python",
   "name": "python",
   "nbconvert_exporter": "python",
   "pygments_lexer": "ipython3",
   "version": "3.8.10"
  },
  "orig_nbformat": 4,
  "vscode": {
   "interpreter": {
    "hash": "31f2aee4e71d21fbe5cf8b01ff0e069b9275f58929596ceb00d14d90e3e16cd6"
   }
  }
 },
 "nbformat": 4,
 "nbformat_minor": 2
}
